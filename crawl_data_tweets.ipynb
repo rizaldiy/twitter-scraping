{
 "cells": [
  {
   "cell_type": "code",
   "execution_count": 3,
   "id": "4917ceeb",
   "metadata": {},
   "outputs": [],
   "source": [
    "import pandas as pd\n",
    "import numpy as np\n",
    "import tweepy\n",
    "import csv\n",
    "import requests\n",
    "import time"
   ]
  },
  {
   "cell_type": "code",
   "execution_count": 5,
   "id": "28ed17f1",
   "metadata": {},
   "outputs": [],
   "source": [
    "client = tweepy.Client(bearer_token = 'Your bearer token here')"
   ]
  },
  {
   "cell_type": "code",
   "execution_count": 7,
   "id": "1304b90d",
   "metadata": {},
   "outputs": [],
   "source": [
    "searchTerm = '#TheLastOfUs -has:media -is:retweet lang:en'"
   ]
  },
  {
   "cell_type": "code",
   "execution_count": null,
   "id": "84bbf8f7",
   "metadata": {},
   "outputs": [],
   "source": [
    "# attachments, author_id, context_annotations, conversation_id, created_at, edit_controls, entities, geo, id, in_reply_to_user_id, lang, non_public_metrics, public_metrics, organic_metrics, promoted_metrics, possibly_sensitive, referenced_tweets, reply_settings, source, text, withheld"
   ]
  },
  {
   "cell_type": "code",
   "execution_count": 86,
   "id": "4c0d7072",
   "metadata": {},
   "outputs": [],
   "source": [
    "tweets = tweepy.Paginator(client.search_recent_tweets, query=searchTerm,\n",
    "                          tweet_fields = ['author_id', 'created_at'], \n",
    "                          user_fields= 'username', expansions=['author_id', 'referenced_tweets.id'],\n",
    "                          max_results=100).flatten(limit=1000)"
   ]
  },
  {
   "cell_type": "code",
   "execution_count": 87,
   "id": "29f18af9",
   "metadata": {},
   "outputs": [],
   "source": [
    "columns = ['id', 'Tweet', 'Created_at']"
   ]
  },
  {
   "cell_type": "code",
   "execution_count": 88,
   "id": "54b98503",
   "metadata": {},
   "outputs": [],
   "source": [
    "data = []\n",
    "for tweet in tweets:\n",
    "    data.append([tweet.author_id, tweet.text, tweet.created_at])"
   ]
  },
  {
   "cell_type": "code",
   "execution_count": 89,
   "id": "cf41ec09",
   "metadata": {},
   "outputs": [],
   "source": [
    "df = pd.DataFrame(data, columns = columns)"
   ]
  },
  {
   "cell_type": "code",
   "execution_count": 94,
   "id": "7e359ae2",
   "metadata": {},
   "outputs": [
    {
     "data": {
      "text/html": [
       "<div>\n",
       "<style scoped>\n",
       "    .dataframe tbody tr th:only-of-type {\n",
       "        vertical-align: middle;\n",
       "    }\n",
       "\n",
       "    .dataframe tbody tr th {\n",
       "        vertical-align: top;\n",
       "    }\n",
       "\n",
       "    .dataframe thead th {\n",
       "        text-align: right;\n",
       "    }\n",
       "</style>\n",
       "<table border=\"1\" class=\"dataframe\">\n",
       "  <thead>\n",
       "    <tr style=\"text-align: right;\">\n",
       "      <th></th>\n",
       "      <th>id</th>\n",
       "      <th>Tweet</th>\n",
       "      <th>Created_at</th>\n",
       "    </tr>\n",
       "  </thead>\n",
       "  <tbody>\n",
       "    <tr>\n",
       "      <th>0</th>\n",
       "      <td>20548681</td>\n",
       "      <td>I don't know what episode 3 of #TheLastOfUs di...</td>\n",
       "      <td>2023-02-04 19:03:13+00:00</td>\n",
       "    </tr>\n",
       "    <tr>\n",
       "      <th>1</th>\n",
       "      <td>1928986668</td>\n",
       "      <td>Our dynamic duo #TheLastOfUs https://t.co/iArK...</td>\n",
       "      <td>2023-02-04 19:02:37+00:00</td>\n",
       "    </tr>\n",
       "    <tr>\n",
       "      <th>2</th>\n",
       "      <td>214964526</td>\n",
       "      <td>🤢.. straight up #TheLastOfUs https://t.co/5Isx...</td>\n",
       "      <td>2023-02-04 19:01:58+00:00</td>\n",
       "    </tr>\n",
       "    <tr>\n",
       "      <th>3</th>\n",
       "      <td>1115840968337567744</td>\n",
       "      <td>#TheLastofUs Episode 4 Cast #PedroPascal\\n#Bel...</td>\n",
       "      <td>2023-02-04 19:01:49+00:00</td>\n",
       "    </tr>\n",
       "    <tr>\n",
       "      <th>4</th>\n",
       "      <td>1928986668</td>\n",
       "      <td>@TheLastofUsHBO Can’t wait for what they’ll br...</td>\n",
       "      <td>2023-02-04 19:01:36+00:00</td>\n",
       "    </tr>\n",
       "    <tr>\n",
       "      <th>5</th>\n",
       "      <td>1928986668</td>\n",
       "      <td>@HBO What you say goes #TheLastOfUs</td>\n",
       "      <td>2023-02-04 19:00:23+00:00</td>\n",
       "    </tr>\n",
       "    <tr>\n",
       "      <th>6</th>\n",
       "      <td>1572526349503299585</td>\n",
       "      <td>With #TheLastOfUS taking the world by storm re...</td>\n",
       "      <td>2023-02-04 19:00:17+00:00</td>\n",
       "    </tr>\n",
       "    <tr>\n",
       "      <th>7</th>\n",
       "      <td>1624759417</td>\n",
       "      <td>the moment you realize you’ve been watching po...</td>\n",
       "      <td>2023-02-04 19:00:03+00:00</td>\n",
       "    </tr>\n",
       "    <tr>\n",
       "      <th>8</th>\n",
       "      <td>3873362656</td>\n",
       "      <td>This turned out a lot better than we thought 😅...</td>\n",
       "      <td>2023-02-04 19:00:01+00:00</td>\n",
       "    </tr>\n",
       "    <tr>\n",
       "      <th>9</th>\n",
       "      <td>2849182664</td>\n",
       "      <td>-Seeing two people serve one another and love ...</td>\n",
       "      <td>2023-02-04 18:59:21+00:00</td>\n",
       "    </tr>\n",
       "  </tbody>\n",
       "</table>\n",
       "</div>"
      ],
      "text/plain": [
       "                    id                                              Tweet  \\\n",
       "0             20548681  I don't know what episode 3 of #TheLastOfUs di...   \n",
       "1           1928986668  Our dynamic duo #TheLastOfUs https://t.co/iArK...   \n",
       "2            214964526  🤢.. straight up #TheLastOfUs https://t.co/5Isx...   \n",
       "3  1115840968337567744  #TheLastofUs Episode 4 Cast #PedroPascal\\n#Bel...   \n",
       "4           1928986668  @TheLastofUsHBO Can’t wait for what they’ll br...   \n",
       "5           1928986668                @HBO What you say goes #TheLastOfUs   \n",
       "6  1572526349503299585  With #TheLastOfUS taking the world by storm re...   \n",
       "7           1624759417  the moment you realize you’ve been watching po...   \n",
       "8           3873362656  This turned out a lot better than we thought 😅...   \n",
       "9           2849182664  -Seeing two people serve one another and love ...   \n",
       "\n",
       "                 Created_at  \n",
       "0 2023-02-04 19:03:13+00:00  \n",
       "1 2023-02-04 19:02:37+00:00  \n",
       "2 2023-02-04 19:01:58+00:00  \n",
       "3 2023-02-04 19:01:49+00:00  \n",
       "4 2023-02-04 19:01:36+00:00  \n",
       "5 2023-02-04 19:00:23+00:00  \n",
       "6 2023-02-04 19:00:17+00:00  \n",
       "7 2023-02-04 19:00:03+00:00  \n",
       "8 2023-02-04 19:00:01+00:00  \n",
       "9 2023-02-04 18:59:21+00:00  "
      ]
     },
     "execution_count": 94,
     "metadata": {},
     "output_type": "execute_result"
    }
   ],
   "source": [
    "df.head(10)"
   ]
  },
  {
   "cell_type": "code",
   "execution_count": 91,
   "id": "b11fd40d",
   "metadata": {},
   "outputs": [
    {
     "name": "stdout",
     "output_type": "stream",
     "text": [
      "<class 'pandas.core.frame.DataFrame'>\n",
      "RangeIndex: 1000 entries, 0 to 999\n",
      "Data columns (total 3 columns):\n",
      " #   Column      Non-Null Count  Dtype              \n",
      "---  ------      --------------  -----              \n",
      " 0   id          1000 non-null   int64              \n",
      " 1   Tweet       1000 non-null   object             \n",
      " 2   Created_at  1000 non-null   datetime64[ns, UTC]\n",
      "dtypes: datetime64[ns, UTC](1), int64(1), object(1)\n",
      "memory usage: 23.6+ KB\n"
     ]
    }
   ],
   "source": [
    "df.info()"
   ]
  },
  {
   "cell_type": "code",
   "execution_count": 95,
   "id": "81dd7830",
   "metadata": {},
   "outputs": [],
   "source": [
    "df.to_csv('tweetsData.csv', index=False)"
   ]
  }
 ],
 "metadata": {
  "kernelspec": {
   "display_name": "Python 3",
   "language": "python",
   "name": "python3"
  },
  "language_info": {
   "codemirror_mode": {
    "name": "ipython",
    "version": 3
   },
   "file_extension": ".py",
   "mimetype": "text/x-python",
   "name": "python",
   "nbconvert_exporter": "python",
   "pygments_lexer": "ipython3",
   "version": "3.8.5"
  }
 },
 "nbformat": 4,
 "nbformat_minor": 5
}
